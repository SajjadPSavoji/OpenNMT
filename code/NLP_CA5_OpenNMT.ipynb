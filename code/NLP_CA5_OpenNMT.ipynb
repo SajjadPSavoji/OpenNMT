{
  "nbformat": 4,
  "nbformat_minor": 0,
  "metadata": {
    "colab": {
      "name": "NLP_CA5_OpenNMT.ipynb",
      "provenance": []
    },
    "kernelspec": {
      "name": "python3",
      "display_name": "Python 3"
    },
    "language_info": {
      "name": "python"
    },
    "accelerator": "GPU"
  },
  "cells": [
    {
      "cell_type": "markdown",
      "metadata": {
        "id": "FLyAOtDba3bJ"
      },
      "source": [
        "# install OpenNMT\n"
      ]
    },
    {
      "cell_type": "code",
      "metadata": {
        "id": "7uGceLc6akSJ",
        "colab": {
          "base_uri": "https://localhost:8080/"
        },
        "outputId": "c04920c9-3f1e-490f-97e4-a3c9f399ed5e"
      },
      "source": [
        "!git clone -b legacy https://github.com/OpenNMT/OpenNMT-py"
      ],
      "execution_count": 14,
      "outputs": [
        {
          "output_type": "stream",
          "text": [
            "Cloning into 'OpenNMT-py'...\n",
            "remote: Enumerating objects: 17381, done.\u001b[K\n",
            "remote: Counting objects: 100% (340/340), done.\u001b[K\n",
            "remote: Compressing objects: 100% (176/176), done.\u001b[K\n",
            "remote: Total 17381 (delta 187), reused 290 (delta 161), pack-reused 17041\u001b[K\n",
            "Receiving objects: 100% (17381/17381), 273.64 MiB | 17.37 MiB/s, done.\n",
            "Resolving deltas: 100% (12495/12495), done.\n"
          ],
          "name": "stdout"
        }
      ]
    },
    {
      "cell_type": "code",
      "metadata": {
        "id": "-xG37kMva6mf",
        "colab": {
          "base_uri": "https://localhost:8080/"
        },
        "outputId": "4b4b4cc2-f190-4af2-ace3-5e79aa164619"
      },
      "source": [
        "!pip install OpenNMT-py"
      ],
      "execution_count": 1,
      "outputs": [
        {
          "output_type": "stream",
          "text": [
            "Collecting OpenNMT-py\n",
            "\u001b[?25l  Downloading https://files.pythonhosted.org/packages/e9/23/c565e03ddffb57db1b79bd9a97c8f56895eea094d9314ba5b12ce1282593/OpenNMT_py-2.1.2-py3-none-any.whl (212kB)\n",
            "\r\u001b[K     |█▌                              | 10kB 13.8MB/s eta 0:00:01\r\u001b[K     |███                             | 20kB 19.9MB/s eta 0:00:01\r\u001b[K     |████▋                           | 30kB 24.8MB/s eta 0:00:01\r\u001b[K     |██████▏                         | 40kB 18.9MB/s eta 0:00:01\r\u001b[K     |███████▊                        | 51kB 9.2MB/s eta 0:00:01\r\u001b[K     |█████████▎                      | 61kB 10.6MB/s eta 0:00:01\r\u001b[K     |██████████▊                     | 71kB 8.4MB/s eta 0:00:01\r\u001b[K     |████████████▎                   | 81kB 9.3MB/s eta 0:00:01\r\u001b[K     |█████████████▉                  | 92kB 10.2MB/s eta 0:00:01\r\u001b[K     |███████████████▍                | 102kB 8.6MB/s eta 0:00:01\r\u001b[K     |█████████████████               | 112kB 8.6MB/s eta 0:00:01\r\u001b[K     |██████████████████▌             | 122kB 8.6MB/s eta 0:00:01\r\u001b[K     |████████████████████            | 133kB 8.6MB/s eta 0:00:01\r\u001b[K     |█████████████████████▌          | 143kB 8.6MB/s eta 0:00:01\r\u001b[K     |███████████████████████         | 153kB 8.6MB/s eta 0:00:01\r\u001b[K     |████████████████████████▋       | 163kB 8.6MB/s eta 0:00:01\r\u001b[K     |██████████████████████████▏     | 174kB 8.6MB/s eta 0:00:01\r\u001b[K     |███████████████████████████▊    | 184kB 8.6MB/s eta 0:00:01\r\u001b[K     |█████████████████████████████▎  | 194kB 8.6MB/s eta 0:00:01\r\u001b[K     |██████████████████████████████▊ | 204kB 8.6MB/s eta 0:00:01\r\u001b[K     |████████████████████████████████| 215kB 8.6MB/s \n",
            "\u001b[?25hCollecting torchtext==0.5.0\n",
            "\u001b[?25l  Downloading https://files.pythonhosted.org/packages/79/ef/54b8da26f37787f5c670ae2199329e7dccf195c060b25628d99e587dac51/torchtext-0.5.0-py3-none-any.whl (73kB)\n",
            "\u001b[K     |████████████████████████████████| 81kB 9.9MB/s \n",
            "\u001b[?25hCollecting pyyaml==5.4\n",
            "\u001b[?25l  Downloading https://files.pythonhosted.org/packages/f1/86/83ae5504903b4eca5ae1fd3c53b87b640f9c302df2c97fc08331ec7f3c8a/PyYAML-5.4-cp37-cp37m-manylinux1_x86_64.whl (636kB)\n",
            "\u001b[K     |████████████████████████████████| 645kB 27.6MB/s \n",
            "\u001b[?25hCollecting flask==1.1.2\n",
            "\u001b[?25l  Downloading https://files.pythonhosted.org/packages/f2/28/2a03252dfb9ebf377f40fba6a7841b47083260bf8bd8e737b0c6952df83f/Flask-1.1.2-py2.py3-none-any.whl (94kB)\n",
            "\u001b[K     |████████████████████████████████| 102kB 13.0MB/s \n",
            "\u001b[?25hCollecting configargparse<2,>=1.2.3\n",
            "  Downloading https://files.pythonhosted.org/packages/e8/a2/b6947a20b67c64b080b999badd231ff4785d1c709a66cfaf8d5e70811a14/ConfigArgParse-1.4.1-py3-none-any.whl\n",
            "Collecting tqdm<5,>=4.51\n",
            "\u001b[?25l  Downloading https://files.pythonhosted.org/packages/b4/20/9f1e974bb4761128fc0d0a32813eaa92827309b1756c4b892d28adfb4415/tqdm-4.61.1-py2.py3-none-any.whl (75kB)\n",
            "\u001b[K     |████████████████████████████████| 81kB 10.5MB/s \n",
            "\u001b[?25hCollecting waitress==1.4.4\n",
            "\u001b[?25l  Downloading https://files.pythonhosted.org/packages/26/d1/5209fb8c764497a592363c47054436a515b47b8c3e4970ddd7184f088857/waitress-1.4.4-py2.py3-none-any.whl (58kB)\n",
            "\u001b[K     |████████████████████████████████| 61kB 7.9MB/s \n",
            "\u001b[?25hCollecting pyonmttok<2,>=1.23; platform_system == \"Linux\" or platform_system == \"Darwin\"\n",
            "\u001b[?25l  Downloading https://files.pythonhosted.org/packages/5c/0c/bad1d4c1c42885f89ef7e9697534af17906e59fc6703872b2a3a52d7c06f/pyonmttok-1.26.2-cp37-cp37m-manylinux1_x86_64.whl (14.3MB)\n",
            "\u001b[K     |████████████████████████████████| 14.3MB 197kB/s \n",
            "\u001b[?25hCollecting torch==1.6.0\n",
            "\u001b[?25l  Downloading https://files.pythonhosted.org/packages/5d/5e/35140615fc1f925023f489e71086a9ecc188053d263d3594237281284d82/torch-1.6.0-cp37-cp37m-manylinux1_x86_64.whl (748.8MB)\n",
            "\u001b[K     |████████████████████████████████| 748.8MB 22kB/s \n",
            "\u001b[?25hRequirement already satisfied: tensorboard<3,>=2.3 in /usr/local/lib/python3.7/dist-packages (from OpenNMT-py) (2.5.0)\n",
            "Requirement already satisfied: numpy in /usr/local/lib/python3.7/dist-packages (from torchtext==0.5.0->OpenNMT-py) (1.19.5)\n",
            "Collecting sentencepiece\n",
            "\u001b[?25l  Downloading https://files.pythonhosted.org/packages/ac/aa/1437691b0c7c83086ebb79ce2da16e00bef024f24fec2a5161c35476f499/sentencepiece-0.1.96-cp37-cp37m-manylinux_2_17_x86_64.manylinux2014_x86_64.whl (1.2MB)\n",
            "\u001b[K     |████████████████████████████████| 1.2MB 46.7MB/s \n",
            "\u001b[?25hRequirement already satisfied: requests in /usr/local/lib/python3.7/dist-packages (from torchtext==0.5.0->OpenNMT-py) (2.23.0)\n",
            "Requirement already satisfied: six in /usr/local/lib/python3.7/dist-packages (from torchtext==0.5.0->OpenNMT-py) (1.15.0)\n",
            "Requirement already satisfied: Werkzeug>=0.15 in /usr/local/lib/python3.7/dist-packages (from flask==1.1.2->OpenNMT-py) (1.0.1)\n",
            "Requirement already satisfied: Jinja2>=2.10.1 in /usr/local/lib/python3.7/dist-packages (from flask==1.1.2->OpenNMT-py) (2.11.3)\n",
            "Requirement already satisfied: click>=5.1 in /usr/local/lib/python3.7/dist-packages (from flask==1.1.2->OpenNMT-py) (7.1.2)\n",
            "Requirement already satisfied: itsdangerous>=0.24 in /usr/local/lib/python3.7/dist-packages (from flask==1.1.2->OpenNMT-py) (1.1.0)\n",
            "Requirement already satisfied: future in /usr/local/lib/python3.7/dist-packages (from torch==1.6.0->OpenNMT-py) (0.16.0)\n",
            "Requirement already satisfied: tensorboard-data-server<0.7.0,>=0.6.0 in /usr/local/lib/python3.7/dist-packages (from tensorboard<3,>=2.3->OpenNMT-py) (0.6.1)\n",
            "Requirement already satisfied: tensorboard-plugin-wit>=1.6.0 in /usr/local/lib/python3.7/dist-packages (from tensorboard<3,>=2.3->OpenNMT-py) (1.8.0)\n",
            "Requirement already satisfied: absl-py>=0.4 in /usr/local/lib/python3.7/dist-packages (from tensorboard<3,>=2.3->OpenNMT-py) (0.12.0)\n",
            "Requirement already satisfied: google-auth<2,>=1.6.3 in /usr/local/lib/python3.7/dist-packages (from tensorboard<3,>=2.3->OpenNMT-py) (1.31.0)\n",
            "Requirement already satisfied: setuptools>=41.0.0 in /usr/local/lib/python3.7/dist-packages (from tensorboard<3,>=2.3->OpenNMT-py) (57.0.0)\n",
            "Requirement already satisfied: protobuf>=3.6.0 in /usr/local/lib/python3.7/dist-packages (from tensorboard<3,>=2.3->OpenNMT-py) (3.12.4)\n",
            "Requirement already satisfied: markdown>=2.6.8 in /usr/local/lib/python3.7/dist-packages (from tensorboard<3,>=2.3->OpenNMT-py) (3.3.4)\n",
            "Requirement already satisfied: wheel>=0.26; python_version >= \"3\" in /usr/local/lib/python3.7/dist-packages (from tensorboard<3,>=2.3->OpenNMT-py) (0.36.2)\n",
            "Requirement already satisfied: google-auth-oauthlib<0.5,>=0.4.1 in /usr/local/lib/python3.7/dist-packages (from tensorboard<3,>=2.3->OpenNMT-py) (0.4.4)\n",
            "Requirement already satisfied: grpcio>=1.24.3 in /usr/local/lib/python3.7/dist-packages (from tensorboard<3,>=2.3->OpenNMT-py) (1.34.1)\n",
            "Requirement already satisfied: idna<3,>=2.5 in /usr/local/lib/python3.7/dist-packages (from requests->torchtext==0.5.0->OpenNMT-py) (2.10)\n",
            "Requirement already satisfied: chardet<4,>=3.0.2 in /usr/local/lib/python3.7/dist-packages (from requests->torchtext==0.5.0->OpenNMT-py) (3.0.4)\n",
            "Requirement already satisfied: certifi>=2017.4.17 in /usr/local/lib/python3.7/dist-packages (from requests->torchtext==0.5.0->OpenNMT-py) (2021.5.30)\n",
            "Requirement already satisfied: urllib3!=1.25.0,!=1.25.1,<1.26,>=1.21.1 in /usr/local/lib/python3.7/dist-packages (from requests->torchtext==0.5.0->OpenNMT-py) (1.24.3)\n",
            "Requirement already satisfied: MarkupSafe>=0.23 in /usr/local/lib/python3.7/dist-packages (from Jinja2>=2.10.1->flask==1.1.2->OpenNMT-py) (2.0.1)\n",
            "Requirement already satisfied: cachetools<5.0,>=2.0.0 in /usr/local/lib/python3.7/dist-packages (from google-auth<2,>=1.6.3->tensorboard<3,>=2.3->OpenNMT-py) (4.2.2)\n",
            "Requirement already satisfied: rsa<5,>=3.1.4; python_version >= \"3.6\" in /usr/local/lib/python3.7/dist-packages (from google-auth<2,>=1.6.3->tensorboard<3,>=2.3->OpenNMT-py) (4.7.2)\n",
            "Requirement already satisfied: pyasn1-modules>=0.2.1 in /usr/local/lib/python3.7/dist-packages (from google-auth<2,>=1.6.3->tensorboard<3,>=2.3->OpenNMT-py) (0.2.8)\n",
            "Requirement already satisfied: importlib-metadata; python_version < \"3.8\" in /usr/local/lib/python3.7/dist-packages (from markdown>=2.6.8->tensorboard<3,>=2.3->OpenNMT-py) (4.5.0)\n",
            "Requirement already satisfied: requests-oauthlib>=0.7.0 in /usr/local/lib/python3.7/dist-packages (from google-auth-oauthlib<0.5,>=0.4.1->tensorboard<3,>=2.3->OpenNMT-py) (1.3.0)\n",
            "Requirement already satisfied: pyasn1>=0.1.3 in /usr/local/lib/python3.7/dist-packages (from rsa<5,>=3.1.4; python_version >= \"3.6\"->google-auth<2,>=1.6.3->tensorboard<3,>=2.3->OpenNMT-py) (0.4.8)\n",
            "Requirement already satisfied: zipp>=0.5 in /usr/local/lib/python3.7/dist-packages (from importlib-metadata; python_version < \"3.8\"->markdown>=2.6.8->tensorboard<3,>=2.3->OpenNMT-py) (3.4.1)\n",
            "Requirement already satisfied: typing-extensions>=3.6.4; python_version < \"3.8\" in /usr/local/lib/python3.7/dist-packages (from importlib-metadata; python_version < \"3.8\"->markdown>=2.6.8->tensorboard<3,>=2.3->OpenNMT-py) (3.7.4.3)\n",
            "Requirement already satisfied: oauthlib>=3.0.0 in /usr/local/lib/python3.7/dist-packages (from requests-oauthlib>=0.7.0->google-auth-oauthlib<0.5,>=0.4.1->tensorboard<3,>=2.3->OpenNMT-py) (3.1.1)\n",
            "\u001b[31mERROR: torchvision 0.9.1+cu101 has requirement torch==1.8.1, but you'll have torch 1.6.0 which is incompatible.\u001b[0m\n",
            "Installing collected packages: sentencepiece, tqdm, torch, torchtext, pyyaml, flask, configargparse, waitress, pyonmttok, OpenNMT-py\n",
            "  Found existing installation: tqdm 4.41.1\n",
            "    Uninstalling tqdm-4.41.1:\n",
            "      Successfully uninstalled tqdm-4.41.1\n",
            "  Found existing installation: torch 1.8.1+cu101\n",
            "    Uninstalling torch-1.8.1+cu101:\n",
            "      Successfully uninstalled torch-1.8.1+cu101\n",
            "  Found existing installation: torchtext 0.9.1\n",
            "    Uninstalling torchtext-0.9.1:\n",
            "      Successfully uninstalled torchtext-0.9.1\n",
            "  Found existing installation: PyYAML 3.13\n",
            "    Uninstalling PyYAML-3.13:\n",
            "      Successfully uninstalled PyYAML-3.13\n",
            "  Found existing installation: Flask 1.1.4\n",
            "    Uninstalling Flask-1.1.4:\n",
            "      Successfully uninstalled Flask-1.1.4\n",
            "Successfully installed OpenNMT-py-2.1.2 configargparse-1.4.1 flask-1.1.2 pyonmttok-1.26.2 pyyaml-5.4 sentencepiece-0.1.96 torch-1.6.0 torchtext-0.5.0 tqdm-4.61.1 waitress-1.4.4\n"
          ],
          "name": "stdout"
        }
      ]
    },
    {
      "cell_type": "markdown",
      "metadata": {
        "id": "xiZ8r0xMDH9X"
      },
      "source": [
        "# user BPE for better results"
      ]
    },
    {
      "cell_type": "code",
      "metadata": {
        "id": "DByJ0hGxa-qz"
      },
      "source": [
        "!python OpenNMT-py/tools/learn_bpe.py -i train.en -o OpenNMT-py/data/src.code -s 10000"
      ],
      "execution_count": 15,
      "outputs": []
    },
    {
      "cell_type": "code",
      "metadata": {
        "id": "jLmuPV4FcPPC"
      },
      "source": [
        "!python OpenNMT-py/tools/learn_bpe.py -i train.fa -o OpenNMT-py/data/tgt.code -s 10000"
      ],
      "execution_count": 16,
      "outputs": []
    },
    {
      "cell_type": "code",
      "metadata": {
        "id": "V_SM_UqRcRqh"
      },
      "source": [
        "!python OpenNMT-py/tools/apply_bpe.py -c OpenNMT-py/data/src.code -i train.en -o OpenNMT-py/data/src-train-bpe.txt"
      ],
      "execution_count": 17,
      "outputs": []
    },
    {
      "cell_type": "code",
      "metadata": {
        "id": "F386c2ZAcUGT"
      },
      "source": [
        "!python OpenNMT-py/tools/apply_bpe.py -c OpenNMT-py/data/src.code -i valid.en -o OpenNMT-py/data/src-val-bpe.txt"
      ],
      "execution_count": 18,
      "outputs": []
    },
    {
      "cell_type": "code",
      "metadata": {
        "id": "N5ZUHqpDcVsU"
      },
      "source": [
        "!python OpenNMT-py/tools/apply_bpe.py -c OpenNMT-py/data/src.code -i test.en -o OpenNMT-py/data/src-test-bpe.txt"
      ],
      "execution_count": 19,
      "outputs": []
    },
    {
      "cell_type": "code",
      "metadata": {
        "id": "vBE7TZWecY9i"
      },
      "source": [
        "!python OpenNMT-py/tools/apply_bpe.py -c OpenNMT-py/data/tgt.code -i train.fa -o OpenNMT-py/data/tgt-train-bpe.txt"
      ],
      "execution_count": 20,
      "outputs": []
    },
    {
      "cell_type": "code",
      "metadata": {
        "id": "GVZEHMkOca-C"
      },
      "source": [
        "!python OpenNMT-py/tools/apply_bpe.py -c OpenNMT-py/data/tgt.code -i valid.fa -o OpenNMT-py/data/tgt-val-bpe.txt"
      ],
      "execution_count": 21,
      "outputs": []
    },
    {
      "cell_type": "code",
      "metadata": {
        "id": "jmCrFN_w3UYH"
      },
      "source": [
        "!python OpenNMT-py/tools/apply_bpe.py -c OpenNMT-py/data/tgt.code -i test.fa -o OpenNMT-py/data/tgt-test-bpe.txt"
      ],
      "execution_count": 22,
      "outputs": []
    },
    {
      "cell_type": "markdown",
      "metadata": {
        "id": "V0gcUanUe46U"
      },
      "source": [
        "## preprocessing data"
      ]
    },
    {
      "cell_type": "code",
      "metadata": {
        "colab": {
          "base_uri": "https://localhost:8080/"
        },
        "id": "QVn7XxqLdKGM",
        "outputId": "1e336d55-bf95-4be7-d3a3-55c5e9e16f93"
      },
      "source": [
        "!python OpenNMT-py/preprocess.py -train_src OpenNMT-py/data/src-train-bpe.txt -train_tgt OpenNMT-py/data/tgt-train-bpe.txt -valid_src OpenNMT-py/data/src-val-bpe.txt -valid_tgt OpenNMT-py/data/tgt-val-bpe.txt -save_data OpenNMT-py/data/demo"
      ],
      "execution_count": 23,
      "outputs": [
        {
          "output_type": "stream",
          "text": [
            "[2021-06-18 15:49:58,972 INFO] Extracting features...\n",
            "[2021-06-18 15:49:58,972 INFO]  * number of source features: 0.\n",
            "[2021-06-18 15:49:58,972 INFO]  * number of target features: 0.\n",
            "[2021-06-18 15:49:58,972 INFO] Building `Fields` object...\n",
            "[2021-06-18 15:49:58,973 INFO] Building & saving training data...\n",
            "[2021-06-18 15:49:59,044 INFO] Building shard 0.\n",
            "[2021-06-18 15:50:00,142 INFO]  * saving 0th train data shard to OpenNMT-py/data/demo.train.0.pt.\n",
            "[2021-06-18 15:50:01,212 INFO]  * tgt vocab size: 9987.\n",
            "[2021-06-18 15:50:01,223 INFO]  * src vocab size: 9806.\n",
            "[2021-06-18 15:50:01,267 INFO] Building & saving validation data...\n",
            "[2021-06-18 15:50:01,300 INFO] Building shard 0.\n",
            "[2021-06-18 15:50:01,308 INFO]  * saving 0th valid data shard to OpenNMT-py/data/demo.valid.0.pt.\n"
          ],
          "name": "stdout"
        }
      ]
    },
    {
      "cell_type": "code",
      "metadata": {
        "id": "zyJ_XVp69Prf"
      },
      "source": [
        "# !python OpenNMT-py/train.py -data OpenNMT-py/data/demo -save_model OpenNMT-py/results/models/demo-model -gpu_ranks 0 --train_steps 1000 --valid_steps 1000 --save_checkpoint_steps 100 --report_every 100"
      ],
      "execution_count": 24,
      "outputs": []
    },
    {
      "cell_type": "code",
      "metadata": {
        "colab": {
          "base_uri": "https://localhost:8080/"
        },
        "id": "LFUB95cnBjq0",
        "outputId": "28a09050-f94a-4ed9-f855-2c3268edb39a"
      },
      "source": [
        "!python OpenNMT-py/train.py -data OpenNMT-py/data/demo -save_model OpenNMT-py/results/models/demo-model --train_steps 3000 --valid_steps 100 --save_checkpoint_steps 100 --report_every 100 -layers 6 -rnn_size 512 -word_vec_size 512 -transformer_ff 2048 -heads 8 -encoder_type transformer -decoder_type transformer -position_encoding  -max_generator_batches 2 -dropout 0.1 -batch_size 2048 -batch_type tokens -normalization tokens -accum_count 2 -optim adam -adam_beta2 0.998 -decay_method noam -warmup_steps 8000 -learning_rate 2 -max_grad_norm 0 -param_init 0 -param_init_glorot -label_smoothing 0.1  -world_size 1 -gpu_rank 0"
      ],
      "execution_count": 28,
      "outputs": [
        {
          "output_type": "stream",
          "text": [
            "[2021-06-18 15:51:28,193 INFO]  * src vocab size = 9806\n",
            "[2021-06-18 15:51:28,193 INFO]  * tgt vocab size = 9987\n",
            "[2021-06-18 15:51:28,193 INFO] Building model...\n",
            "[2021-06-18 15:51:32,140 INFO] NMTModel(\n",
            "  (encoder): TransformerEncoder(\n",
            "    (embeddings): Embeddings(\n",
            "      (make_embedding): Sequential(\n",
            "        (emb_luts): Elementwise(\n",
            "          (0): Embedding(9806, 512, padding_idx=1)\n",
            "        )\n",
            "        (pe): PositionalEncoding(\n",
            "          (dropout): Dropout(p=0.1, inplace=False)\n",
            "        )\n",
            "      )\n",
            "    )\n",
            "    (transformer): ModuleList(\n",
            "      (0): TransformerEncoderLayer(\n",
            "        (self_attn): MultiHeadedAttention(\n",
            "          (linear_keys): Linear(in_features=512, out_features=512, bias=True)\n",
            "          (linear_values): Linear(in_features=512, out_features=512, bias=True)\n",
            "          (linear_query): Linear(in_features=512, out_features=512, bias=True)\n",
            "          (softmax): Softmax(dim=-1)\n",
            "          (dropout): Dropout(p=0.1, inplace=False)\n",
            "          (final_linear): Linear(in_features=512, out_features=512, bias=True)\n",
            "        )\n",
            "        (feed_forward): PositionwiseFeedForward(\n",
            "          (w_1): Linear(in_features=512, out_features=2048, bias=True)\n",
            "          (w_2): Linear(in_features=2048, out_features=512, bias=True)\n",
            "          (layer_norm): LayerNorm((512,), eps=1e-06, elementwise_affine=True)\n",
            "          (dropout_1): Dropout(p=0.1, inplace=False)\n",
            "          (relu): ReLU()\n",
            "          (dropout_2): Dropout(p=0.1, inplace=False)\n",
            "        )\n",
            "        (layer_norm): LayerNorm((512,), eps=1e-06, elementwise_affine=True)\n",
            "        (dropout): Dropout(p=0.1, inplace=False)\n",
            "      )\n",
            "      (1): TransformerEncoderLayer(\n",
            "        (self_attn): MultiHeadedAttention(\n",
            "          (linear_keys): Linear(in_features=512, out_features=512, bias=True)\n",
            "          (linear_values): Linear(in_features=512, out_features=512, bias=True)\n",
            "          (linear_query): Linear(in_features=512, out_features=512, bias=True)\n",
            "          (softmax): Softmax(dim=-1)\n",
            "          (dropout): Dropout(p=0.1, inplace=False)\n",
            "          (final_linear): Linear(in_features=512, out_features=512, bias=True)\n",
            "        )\n",
            "        (feed_forward): PositionwiseFeedForward(\n",
            "          (w_1): Linear(in_features=512, out_features=2048, bias=True)\n",
            "          (w_2): Linear(in_features=2048, out_features=512, bias=True)\n",
            "          (layer_norm): LayerNorm((512,), eps=1e-06, elementwise_affine=True)\n",
            "          (dropout_1): Dropout(p=0.1, inplace=False)\n",
            "          (relu): ReLU()\n",
            "          (dropout_2): Dropout(p=0.1, inplace=False)\n",
            "        )\n",
            "        (layer_norm): LayerNorm((512,), eps=1e-06, elementwise_affine=True)\n",
            "        (dropout): Dropout(p=0.1, inplace=False)\n",
            "      )\n",
            "      (2): TransformerEncoderLayer(\n",
            "        (self_attn): MultiHeadedAttention(\n",
            "          (linear_keys): Linear(in_features=512, out_features=512, bias=True)\n",
            "          (linear_values): Linear(in_features=512, out_features=512, bias=True)\n",
            "          (linear_query): Linear(in_features=512, out_features=512, bias=True)\n",
            "          (softmax): Softmax(dim=-1)\n",
            "          (dropout): Dropout(p=0.1, inplace=False)\n",
            "          (final_linear): Linear(in_features=512, out_features=512, bias=True)\n",
            "        )\n",
            "        (feed_forward): PositionwiseFeedForward(\n",
            "          (w_1): Linear(in_features=512, out_features=2048, bias=True)\n",
            "          (w_2): Linear(in_features=2048, out_features=512, bias=True)\n",
            "          (layer_norm): LayerNorm((512,), eps=1e-06, elementwise_affine=True)\n",
            "          (dropout_1): Dropout(p=0.1, inplace=False)\n",
            "          (relu): ReLU()\n",
            "          (dropout_2): Dropout(p=0.1, inplace=False)\n",
            "        )\n",
            "        (layer_norm): LayerNorm((512,), eps=1e-06, elementwise_affine=True)\n",
            "        (dropout): Dropout(p=0.1, inplace=False)\n",
            "      )\n",
            "      (3): TransformerEncoderLayer(\n",
            "        (self_attn): MultiHeadedAttention(\n",
            "          (linear_keys): Linear(in_features=512, out_features=512, bias=True)\n",
            "          (linear_values): Linear(in_features=512, out_features=512, bias=True)\n",
            "          (linear_query): Linear(in_features=512, out_features=512, bias=True)\n",
            "          (softmax): Softmax(dim=-1)\n",
            "          (dropout): Dropout(p=0.1, inplace=False)\n",
            "          (final_linear): Linear(in_features=512, out_features=512, bias=True)\n",
            "        )\n",
            "        (feed_forward): PositionwiseFeedForward(\n",
            "          (w_1): Linear(in_features=512, out_features=2048, bias=True)\n",
            "          (w_2): Linear(in_features=2048, out_features=512, bias=True)\n",
            "          (layer_norm): LayerNorm((512,), eps=1e-06, elementwise_affine=True)\n",
            "          (dropout_1): Dropout(p=0.1, inplace=False)\n",
            "          (relu): ReLU()\n",
            "          (dropout_2): Dropout(p=0.1, inplace=False)\n",
            "        )\n",
            "        (layer_norm): LayerNorm((512,), eps=1e-06, elementwise_affine=True)\n",
            "        (dropout): Dropout(p=0.1, inplace=False)\n",
            "      )\n",
            "      (4): TransformerEncoderLayer(\n",
            "        (self_attn): MultiHeadedAttention(\n",
            "          (linear_keys): Linear(in_features=512, out_features=512, bias=True)\n",
            "          (linear_values): Linear(in_features=512, out_features=512, bias=True)\n",
            "          (linear_query): Linear(in_features=512, out_features=512, bias=True)\n",
            "          (softmax): Softmax(dim=-1)\n",
            "          (dropout): Dropout(p=0.1, inplace=False)\n",
            "          (final_linear): Linear(in_features=512, out_features=512, bias=True)\n",
            "        )\n",
            "        (feed_forward): PositionwiseFeedForward(\n",
            "          (w_1): Linear(in_features=512, out_features=2048, bias=True)\n",
            "          (w_2): Linear(in_features=2048, out_features=512, bias=True)\n",
            "          (layer_norm): LayerNorm((512,), eps=1e-06, elementwise_affine=True)\n",
            "          (dropout_1): Dropout(p=0.1, inplace=False)\n",
            "          (relu): ReLU()\n",
            "          (dropout_2): Dropout(p=0.1, inplace=False)\n",
            "        )\n",
            "        (layer_norm): LayerNorm((512,), eps=1e-06, elementwise_affine=True)\n",
            "        (dropout): Dropout(p=0.1, inplace=False)\n",
            "      )\n",
            "      (5): TransformerEncoderLayer(\n",
            "        (self_attn): MultiHeadedAttention(\n",
            "          (linear_keys): Linear(in_features=512, out_features=512, bias=True)\n",
            "          (linear_values): Linear(in_features=512, out_features=512, bias=True)\n",
            "          (linear_query): Linear(in_features=512, out_features=512, bias=True)\n",
            "          (softmax): Softmax(dim=-1)\n",
            "          (dropout): Dropout(p=0.1, inplace=False)\n",
            "          (final_linear): Linear(in_features=512, out_features=512, bias=True)\n",
            "        )\n",
            "        (feed_forward): PositionwiseFeedForward(\n",
            "          (w_1): Linear(in_features=512, out_features=2048, bias=True)\n",
            "          (w_2): Linear(in_features=2048, out_features=512, bias=True)\n",
            "          (layer_norm): LayerNorm((512,), eps=1e-06, elementwise_affine=True)\n",
            "          (dropout_1): Dropout(p=0.1, inplace=False)\n",
            "          (relu): ReLU()\n",
            "          (dropout_2): Dropout(p=0.1, inplace=False)\n",
            "        )\n",
            "        (layer_norm): LayerNorm((512,), eps=1e-06, elementwise_affine=True)\n",
            "        (dropout): Dropout(p=0.1, inplace=False)\n",
            "      )\n",
            "    )\n",
            "    (layer_norm): LayerNorm((512,), eps=1e-06, elementwise_affine=True)\n",
            "  )\n",
            "  (decoder): TransformerDecoder(\n",
            "    (embeddings): Embeddings(\n",
            "      (make_embedding): Sequential(\n",
            "        (emb_luts): Elementwise(\n",
            "          (0): Embedding(9987, 512, padding_idx=1)\n",
            "        )\n",
            "        (pe): PositionalEncoding(\n",
            "          (dropout): Dropout(p=0.1, inplace=False)\n",
            "        )\n",
            "      )\n",
            "    )\n",
            "    (transformer_layers): ModuleList(\n",
            "      (0): TransformerDecoderLayer(\n",
            "        (self_attn): MultiHeadedAttention(\n",
            "          (linear_keys): Linear(in_features=512, out_features=512, bias=True)\n",
            "          (linear_values): Linear(in_features=512, out_features=512, bias=True)\n",
            "          (linear_query): Linear(in_features=512, out_features=512, bias=True)\n",
            "          (softmax): Softmax(dim=-1)\n",
            "          (dropout): Dropout(p=0.1, inplace=False)\n",
            "          (final_linear): Linear(in_features=512, out_features=512, bias=True)\n",
            "        )\n",
            "        (context_attn): MultiHeadedAttention(\n",
            "          (linear_keys): Linear(in_features=512, out_features=512, bias=True)\n",
            "          (linear_values): Linear(in_features=512, out_features=512, bias=True)\n",
            "          (linear_query): Linear(in_features=512, out_features=512, bias=True)\n",
            "          (softmax): Softmax(dim=-1)\n",
            "          (dropout): Dropout(p=0.1, inplace=False)\n",
            "          (final_linear): Linear(in_features=512, out_features=512, bias=True)\n",
            "        )\n",
            "        (feed_forward): PositionwiseFeedForward(\n",
            "          (w_1): Linear(in_features=512, out_features=2048, bias=True)\n",
            "          (w_2): Linear(in_features=2048, out_features=512, bias=True)\n",
            "          (layer_norm): LayerNorm((512,), eps=1e-06, elementwise_affine=True)\n",
            "          (dropout_1): Dropout(p=0.1, inplace=False)\n",
            "          (relu): ReLU()\n",
            "          (dropout_2): Dropout(p=0.1, inplace=False)\n",
            "        )\n",
            "        (layer_norm_1): LayerNorm((512,), eps=1e-06, elementwise_affine=True)\n",
            "        (layer_norm_2): LayerNorm((512,), eps=1e-06, elementwise_affine=True)\n",
            "        (drop): Dropout(p=0.1, inplace=False)\n",
            "      )\n",
            "      (1): TransformerDecoderLayer(\n",
            "        (self_attn): MultiHeadedAttention(\n",
            "          (linear_keys): Linear(in_features=512, out_features=512, bias=True)\n",
            "          (linear_values): Linear(in_features=512, out_features=512, bias=True)\n",
            "          (linear_query): Linear(in_features=512, out_features=512, bias=True)\n",
            "          (softmax): Softmax(dim=-1)\n",
            "          (dropout): Dropout(p=0.1, inplace=False)\n",
            "          (final_linear): Linear(in_features=512, out_features=512, bias=True)\n",
            "        )\n",
            "        (context_attn): MultiHeadedAttention(\n",
            "          (linear_keys): Linear(in_features=512, out_features=512, bias=True)\n",
            "          (linear_values): Linear(in_features=512, out_features=512, bias=True)\n",
            "          (linear_query): Linear(in_features=512, out_features=512, bias=True)\n",
            "          (softmax): Softmax(dim=-1)\n",
            "          (dropout): Dropout(p=0.1, inplace=False)\n",
            "          (final_linear): Linear(in_features=512, out_features=512, bias=True)\n",
            "        )\n",
            "        (feed_forward): PositionwiseFeedForward(\n",
            "          (w_1): Linear(in_features=512, out_features=2048, bias=True)\n",
            "          (w_2): Linear(in_features=2048, out_features=512, bias=True)\n",
            "          (layer_norm): LayerNorm((512,), eps=1e-06, elementwise_affine=True)\n",
            "          (dropout_1): Dropout(p=0.1, inplace=False)\n",
            "          (relu): ReLU()\n",
            "          (dropout_2): Dropout(p=0.1, inplace=False)\n",
            "        )\n",
            "        (layer_norm_1): LayerNorm((512,), eps=1e-06, elementwise_affine=True)\n",
            "        (layer_norm_2): LayerNorm((512,), eps=1e-06, elementwise_affine=True)\n",
            "        (drop): Dropout(p=0.1, inplace=False)\n",
            "      )\n",
            "      (2): TransformerDecoderLayer(\n",
            "        (self_attn): MultiHeadedAttention(\n",
            "          (linear_keys): Linear(in_features=512, out_features=512, bias=True)\n",
            "          (linear_values): Linear(in_features=512, out_features=512, bias=True)\n",
            "          (linear_query): Linear(in_features=512, out_features=512, bias=True)\n",
            "          (softmax): Softmax(dim=-1)\n",
            "          (dropout): Dropout(p=0.1, inplace=False)\n",
            "          (final_linear): Linear(in_features=512, out_features=512, bias=True)\n",
            "        )\n",
            "        (context_attn): MultiHeadedAttention(\n",
            "          (linear_keys): Linear(in_features=512, out_features=512, bias=True)\n",
            "          (linear_values): Linear(in_features=512, out_features=512, bias=True)\n",
            "          (linear_query): Linear(in_features=512, out_features=512, bias=True)\n",
            "          (softmax): Softmax(dim=-1)\n",
            "          (dropout): Dropout(p=0.1, inplace=False)\n",
            "          (final_linear): Linear(in_features=512, out_features=512, bias=True)\n",
            "        )\n",
            "        (feed_forward): PositionwiseFeedForward(\n",
            "          (w_1): Linear(in_features=512, out_features=2048, bias=True)\n",
            "          (w_2): Linear(in_features=2048, out_features=512, bias=True)\n",
            "          (layer_norm): LayerNorm((512,), eps=1e-06, elementwise_affine=True)\n",
            "          (dropout_1): Dropout(p=0.1, inplace=False)\n",
            "          (relu): ReLU()\n",
            "          (dropout_2): Dropout(p=0.1, inplace=False)\n",
            "        )\n",
            "        (layer_norm_1): LayerNorm((512,), eps=1e-06, elementwise_affine=True)\n",
            "        (layer_norm_2): LayerNorm((512,), eps=1e-06, elementwise_affine=True)\n",
            "        (drop): Dropout(p=0.1, inplace=False)\n",
            "      )\n",
            "      (3): TransformerDecoderLayer(\n",
            "        (self_attn): MultiHeadedAttention(\n",
            "          (linear_keys): Linear(in_features=512, out_features=512, bias=True)\n",
            "          (linear_values): Linear(in_features=512, out_features=512, bias=True)\n",
            "          (linear_query): Linear(in_features=512, out_features=512, bias=True)\n",
            "          (softmax): Softmax(dim=-1)\n",
            "          (dropout): Dropout(p=0.1, inplace=False)\n",
            "          (final_linear): Linear(in_features=512, out_features=512, bias=True)\n",
            "        )\n",
            "        (context_attn): MultiHeadedAttention(\n",
            "          (linear_keys): Linear(in_features=512, out_features=512, bias=True)\n",
            "          (linear_values): Linear(in_features=512, out_features=512, bias=True)\n",
            "          (linear_query): Linear(in_features=512, out_features=512, bias=True)\n",
            "          (softmax): Softmax(dim=-1)\n",
            "          (dropout): Dropout(p=0.1, inplace=False)\n",
            "          (final_linear): Linear(in_features=512, out_features=512, bias=True)\n",
            "        )\n",
            "        (feed_forward): PositionwiseFeedForward(\n",
            "          (w_1): Linear(in_features=512, out_features=2048, bias=True)\n",
            "          (w_2): Linear(in_features=2048, out_features=512, bias=True)\n",
            "          (layer_norm): LayerNorm((512,), eps=1e-06, elementwise_affine=True)\n",
            "          (dropout_1): Dropout(p=0.1, inplace=False)\n",
            "          (relu): ReLU()\n",
            "          (dropout_2): Dropout(p=0.1, inplace=False)\n",
            "        )\n",
            "        (layer_norm_1): LayerNorm((512,), eps=1e-06, elementwise_affine=True)\n",
            "        (layer_norm_2): LayerNorm((512,), eps=1e-06, elementwise_affine=True)\n",
            "        (drop): Dropout(p=0.1, inplace=False)\n",
            "      )\n",
            "      (4): TransformerDecoderLayer(\n",
            "        (self_attn): MultiHeadedAttention(\n",
            "          (linear_keys): Linear(in_features=512, out_features=512, bias=True)\n",
            "          (linear_values): Linear(in_features=512, out_features=512, bias=True)\n",
            "          (linear_query): Linear(in_features=512, out_features=512, bias=True)\n",
            "          (softmax): Softmax(dim=-1)\n",
            "          (dropout): Dropout(p=0.1, inplace=False)\n",
            "          (final_linear): Linear(in_features=512, out_features=512, bias=True)\n",
            "        )\n",
            "        (context_attn): MultiHeadedAttention(\n",
            "          (linear_keys): Linear(in_features=512, out_features=512, bias=True)\n",
            "          (linear_values): Linear(in_features=512, out_features=512, bias=True)\n",
            "          (linear_query): Linear(in_features=512, out_features=512, bias=True)\n",
            "          (softmax): Softmax(dim=-1)\n",
            "          (dropout): Dropout(p=0.1, inplace=False)\n",
            "          (final_linear): Linear(in_features=512, out_features=512, bias=True)\n",
            "        )\n",
            "        (feed_forward): PositionwiseFeedForward(\n",
            "          (w_1): Linear(in_features=512, out_features=2048, bias=True)\n",
            "          (w_2): Linear(in_features=2048, out_features=512, bias=True)\n",
            "          (layer_norm): LayerNorm((512,), eps=1e-06, elementwise_affine=True)\n",
            "          (dropout_1): Dropout(p=0.1, inplace=False)\n",
            "          (relu): ReLU()\n",
            "          (dropout_2): Dropout(p=0.1, inplace=False)\n",
            "        )\n",
            "        (layer_norm_1): LayerNorm((512,), eps=1e-06, elementwise_affine=True)\n",
            "        (layer_norm_2): LayerNorm((512,), eps=1e-06, elementwise_affine=True)\n",
            "        (drop): Dropout(p=0.1, inplace=False)\n",
            "      )\n",
            "      (5): TransformerDecoderLayer(\n",
            "        (self_attn): MultiHeadedAttention(\n",
            "          (linear_keys): Linear(in_features=512, out_features=512, bias=True)\n",
            "          (linear_values): Linear(in_features=512, out_features=512, bias=True)\n",
            "          (linear_query): Linear(in_features=512, out_features=512, bias=True)\n",
            "          (softmax): Softmax(dim=-1)\n",
            "          (dropout): Dropout(p=0.1, inplace=False)\n",
            "          (final_linear): Linear(in_features=512, out_features=512, bias=True)\n",
            "        )\n",
            "        (context_attn): MultiHeadedAttention(\n",
            "          (linear_keys): Linear(in_features=512, out_features=512, bias=True)\n",
            "          (linear_values): Linear(in_features=512, out_features=512, bias=True)\n",
            "          (linear_query): Linear(in_features=512, out_features=512, bias=True)\n",
            "          (softmax): Softmax(dim=-1)\n",
            "          (dropout): Dropout(p=0.1, inplace=False)\n",
            "          (final_linear): Linear(in_features=512, out_features=512, bias=True)\n",
            "        )\n",
            "        (feed_forward): PositionwiseFeedForward(\n",
            "          (w_1): Linear(in_features=512, out_features=2048, bias=True)\n",
            "          (w_2): Linear(in_features=2048, out_features=512, bias=True)\n",
            "          (layer_norm): LayerNorm((512,), eps=1e-06, elementwise_affine=True)\n",
            "          (dropout_1): Dropout(p=0.1, inplace=False)\n",
            "          (relu): ReLU()\n",
            "          (dropout_2): Dropout(p=0.1, inplace=False)\n",
            "        )\n",
            "        (layer_norm_1): LayerNorm((512,), eps=1e-06, elementwise_affine=True)\n",
            "        (layer_norm_2): LayerNorm((512,), eps=1e-06, elementwise_affine=True)\n",
            "        (drop): Dropout(p=0.1, inplace=False)\n",
            "      )\n",
            "    )\n",
            "    (layer_norm): LayerNorm((512,), eps=1e-06, elementwise_affine=True)\n",
            "  )\n",
            "  (generator): Sequential(\n",
            "    (0): Linear(in_features=512, out_features=9987, bias=True)\n",
            "    (1): Cast()\n",
            "    (2): LogSoftmax(dim=-1)\n",
            "  )\n",
            ")\n",
            "[2021-06-18 15:51:32,243 INFO] encoder: 23936000\n",
            "[2021-06-18 15:51:32,243 INFO] decoder: 35461891\n",
            "[2021-06-18 15:51:32,243 INFO] * number of parameters: 59397891\n",
            "[2021-06-18 15:51:32,246 INFO] Starting training on GPU: [0]\n",
            "[2021-06-18 15:51:32,246 INFO] Start training loop and validate every 100 steps...\n",
            "[2021-06-18 15:51:32,246 INFO] Loading dataset from OpenNMT-py/data/demo.train.0.pt\n",
            "[2021-06-18 15:51:33,029 INFO] number of examples: 28508\n",
            "[2021-06-18 15:52:13,611 INFO] Step 100/ 3000; acc:   3.68; ppl: 2121.82; xent: 7.66; lr: 0.00001; 7656/8127 tok/s;     41 sec\n",
            "[2021-06-18 15:52:13,612 INFO] Loading dataset from OpenNMT-py/data/demo.valid.0.pt\n",
            "[2021-06-18 15:52:13,623 INFO] number of examples: 400\n",
            "[2021-06-18 15:52:14,324 INFO] Validation perplexity: 4582.58\n",
            "[2021-06-18 15:52:14,324 INFO] Validation accuracy: 5.07292\n",
            "[2021-06-18 15:52:14,380 INFO] Saving checkpoint OpenNMT-py/results/models/demo-model_step_100.pt\n",
            "[2021-06-18 15:52:41,792 INFO] Loading dataset from OpenNMT-py/data/demo.train.0.pt\n",
            "[2021-06-18 15:52:42,736 INFO] number of examples: 28508\n",
            "[2021-06-18 15:52:59,670 INFO] Step 200/ 3000; acc:   5.25; ppl: 1108.14; xent: 7.01; lr: 0.00002; 6856/7368 tok/s;     87 sec\n",
            "[2021-06-18 15:52:59,671 INFO] Loading dataset from OpenNMT-py/data/demo.valid.0.pt\n",
            "[2021-06-18 15:52:59,681 INFO] number of examples: 400\n",
            "[2021-06-18 15:53:00,393 INFO] Validation perplexity: 2410.73\n",
            "[2021-06-18 15:53:00,393 INFO] Validation accuracy: 5.27584\n",
            "[2021-06-18 15:53:00,452 INFO] Saving checkpoint OpenNMT-py/results/models/demo-model_step_200.pt\n",
            "[2021-06-18 15:53:45,295 INFO] Step 300/ 3000; acc:   7.00; ppl: 602.63; xent: 6.40; lr: 0.00004; 6977/7487 tok/s;    133 sec\n",
            "[2021-06-18 15:53:45,296 INFO] Loading dataset from OpenNMT-py/data/demo.valid.0.pt\n",
            "[2021-06-18 15:53:45,305 INFO] number of examples: 400\n",
            "[2021-06-18 15:53:46,040 INFO] Validation perplexity: 1330.91\n",
            "[2021-06-18 15:53:46,040 INFO] Validation accuracy: 8.6747\n",
            "[2021-06-18 15:53:46,096 INFO] Saving checkpoint OpenNMT-py/results/models/demo-model_step_300.pt\n",
            "[2021-06-18 15:53:57,274 INFO] Loading dataset from OpenNMT-py/data/demo.train.0.pt\n",
            "[2021-06-18 15:53:58,219 INFO] number of examples: 28508\n",
            "[2021-06-18 15:54:32,604 INFO] Step 400/ 3000; acc:   9.34; ppl: 448.36; xent: 6.11; lr: 0.00005; 6683/7028 tok/s;    180 sec\n",
            "[2021-06-18 15:54:32,605 INFO] Loading dataset from OpenNMT-py/data/demo.valid.0.pt\n",
            "[2021-06-18 15:54:32,615 INFO] number of examples: 400\n",
            "[2021-06-18 15:54:33,352 INFO] Validation perplexity: 1143.28\n",
            "[2021-06-18 15:54:33,352 INFO] Validation accuracy: 9.5371\n",
            "[2021-06-18 15:54:33,409 INFO] Saving checkpoint OpenNMT-py/results/models/demo-model_step_400.pt\n",
            "[2021-06-18 15:55:10,702 INFO] Loading dataset from OpenNMT-py/data/demo.train.0.pt\n",
            "[2021-06-18 15:55:11,725 INFO] number of examples: 28508\n",
            "[2021-06-18 15:55:20,601 INFO] Step 500/ 3000; acc:  10.69; ppl: 404.01; xent: 6.00; lr: 0.00006; 6547/7061 tok/s;    228 sec\n",
            "[2021-06-18 15:55:20,602 INFO] Loading dataset from OpenNMT-py/data/demo.valid.0.pt\n",
            "[2021-06-18 15:55:20,614 INFO] number of examples: 400\n",
            "[2021-06-18 15:55:21,359 INFO] Validation perplexity: 1028.69\n",
            "[2021-06-18 15:55:21,360 INFO] Validation accuracy: 11.1097\n",
            "[2021-06-18 15:55:21,420 INFO] Saving checkpoint OpenNMT-py/results/models/demo-model_step_500.pt\n",
            "[2021-06-18 15:56:07,823 INFO] Step 600/ 3000; acc:  11.93; ppl: 362.14; xent: 5.89; lr: 0.00007; 6778/7231 tok/s;    276 sec\n",
            "[2021-06-18 15:56:07,824 INFO] Loading dataset from OpenNMT-py/data/demo.valid.0.pt\n",
            "[2021-06-18 15:56:07,837 INFO] number of examples: 400\n",
            "[2021-06-18 15:56:08,599 INFO] Validation perplexity: 882.216\n",
            "[2021-06-18 15:56:08,599 INFO] Validation accuracy: 12.3779\n",
            "[2021-06-18 15:56:08,661 INFO] Saving checkpoint OpenNMT-py/results/models/demo-model_step_600.pt\n",
            "[2021-06-18 15:56:28,708 INFO] Loading dataset from OpenNMT-py/data/demo.train.0.pt\n",
            "[2021-06-18 15:56:29,703 INFO] number of examples: 28508\n",
            "[2021-06-18 15:56:56,184 INFO] Step 700/ 3000; acc:  12.83; ppl: 321.78; xent: 5.77; lr: 0.00009; 6540/6915 tok/s;    324 sec\n",
            "[2021-06-18 15:56:56,186 INFO] Loading dataset from OpenNMT-py/data/demo.valid.0.pt\n",
            "[2021-06-18 15:56:56,199 INFO] number of examples: 400\n",
            "[2021-06-18 15:56:56,954 INFO] Validation perplexity: 740.651\n",
            "[2021-06-18 15:56:56,954 INFO] Validation accuracy: 13.6588\n",
            "[2021-06-18 15:56:57,015 INFO] Saving checkpoint OpenNMT-py/results/models/demo-model_step_700.pt\n",
            "[2021-06-18 15:57:43,462 INFO] Step 800/ 3000; acc:  14.33; ppl: 265.29; xent: 5.58; lr: 0.00010; 6693/7174 tok/s;    371 sec\n",
            "[2021-06-18 15:57:43,463 INFO] Loading dataset from OpenNMT-py/data/demo.valid.0.pt\n",
            "[2021-06-18 15:57:43,472 INFO] number of examples: 400\n",
            "[2021-06-18 15:57:44,233 INFO] Validation perplexity: 622.614\n",
            "[2021-06-18 15:57:44,233 INFO] Validation accuracy: 14.1661\n",
            "[2021-06-18 15:57:44,289 INFO] Saving checkpoint OpenNMT-py/results/models/demo-model_step_800.pt\n",
            "[2021-06-18 15:57:46,780 INFO] Loading dataset from OpenNMT-py/data/demo.train.0.pt\n",
            "[2021-06-18 15:57:47,920 INFO] number of examples: 28508\n",
            "[2021-06-18 15:58:32,079 INFO] Step 900/ 3000; acc:  14.81; ppl: 233.02; xent: 5.45; lr: 0.00011; 6514/6915 tok/s;    420 sec\n",
            "[2021-06-18 15:58:32,080 INFO] Loading dataset from OpenNMT-py/data/demo.valid.0.pt\n",
            "[2021-06-18 15:58:32,090 INFO] number of examples: 400\n",
            "[2021-06-18 15:58:32,852 INFO] Validation perplexity: 503.499\n",
            "[2021-06-18 15:58:32,852 INFO] Validation accuracy: 15.6119\n",
            "[2021-06-18 15:58:32,909 INFO] Saving checkpoint OpenNMT-py/results/models/demo-model_step_900.pt\n",
            "[2021-06-18 15:59:01,848 INFO] Loading dataset from OpenNMT-py/data/demo.train.0.pt\n",
            "[2021-06-18 15:59:02,874 INFO] number of examples: 28508\n",
            "[2021-06-18 15:59:20,814 INFO] Step 1000/ 3000; acc:  16.13; ppl: 198.11; xent: 5.29; lr: 0.00012; 6480/6964 tok/s;    469 sec\n",
            "[2021-06-18 15:59:20,815 INFO] Loading dataset from OpenNMT-py/data/demo.valid.0.pt\n",
            "[2021-06-18 15:59:20,824 INFO] number of examples: 400\n",
            "[2021-06-18 15:59:21,591 INFO] Validation perplexity: 446.619\n",
            "[2021-06-18 15:59:21,591 INFO] Validation accuracy: 15.6373\n",
            "[2021-06-18 15:59:21,656 INFO] Saving checkpoint OpenNMT-py/results/models/demo-model_step_1000.pt\n",
            "[2021-06-18 16:00:08,107 INFO] Step 1100/ 3000; acc:  17.28; ppl: 173.78; xent: 5.16; lr: 0.00014; 6731/7223 tok/s;    516 sec\n",
            "[2021-06-18 16:00:08,109 INFO] Loading dataset from OpenNMT-py/data/demo.valid.0.pt\n",
            "[2021-06-18 16:00:08,118 INFO] number of examples: 400\n",
            "[2021-06-18 16:00:08,879 INFO] Validation perplexity: 395.539\n",
            "[2021-06-18 16:00:08,879 INFO] Validation accuracy: 16.8802\n",
            "[2021-06-18 16:00:08,937 INFO] Saving checkpoint OpenNMT-py/results/models/demo-model_step_1100.pt\n",
            "[2021-06-18 16:00:20,130 INFO] Loading dataset from OpenNMT-py/data/demo.train.0.pt\n",
            "[2021-06-18 16:00:21,237 INFO] number of examples: 28508\n",
            "[2021-06-18 16:00:56,637 INFO] Step 1200/ 3000; acc:  18.04; ppl: 157.55; xent: 5.06; lr: 0.00015; 6515/6851 tok/s;    564 sec\n",
            "[2021-06-18 16:00:56,638 INFO] Loading dataset from OpenNMT-py/data/demo.valid.0.pt\n",
            "[2021-06-18 16:00:56,647 INFO] number of examples: 400\n",
            "[2021-06-18 16:00:57,415 INFO] Validation perplexity: 372.518\n",
            "[2021-06-18 16:00:57,416 INFO] Validation accuracy: 16.9562\n",
            "[2021-06-18 16:00:57,471 INFO] Saving checkpoint OpenNMT-py/results/models/demo-model_step_1200.pt\n",
            "[2021-06-18 16:01:35,077 INFO] Loading dataset from OpenNMT-py/data/demo.train.0.pt\n",
            "[2021-06-18 16:01:36,093 INFO] number of examples: 28508\n",
            "[2021-06-18 16:01:45,098 INFO] Step 1300/ 3000; acc:  18.88; ppl: 140.93; xent: 4.95; lr: 0.00016; 6484/6993 tok/s;    613 sec\n",
            "[2021-06-18 16:01:45,099 INFO] Loading dataset from OpenNMT-py/data/demo.valid.0.pt\n",
            "[2021-06-18 16:01:45,109 INFO] number of examples: 400\n",
            "[2021-06-18 16:01:45,868 INFO] Validation perplexity: 336.58\n",
            "[2021-06-18 16:01:45,868 INFO] Validation accuracy: 17.3367\n",
            "[2021-06-18 16:01:45,930 INFO] Saving checkpoint OpenNMT-py/results/models/demo-model_step_1300.pt\n",
            "[2021-06-18 16:02:32,486 INFO] Step 1400/ 3000; acc:  19.69; ppl: 127.25; xent: 4.85; lr: 0.00017; 6754/7205 tok/s;    660 sec\n",
            "[2021-06-18 16:02:32,487 INFO] Loading dataset from OpenNMT-py/data/demo.valid.0.pt\n",
            "[2021-06-18 16:02:32,496 INFO] number of examples: 400\n",
            "[2021-06-18 16:02:33,261 INFO] Validation perplexity: 302.671\n",
            "[2021-06-18 16:02:33,261 INFO] Validation accuracy: 17.7425\n",
            "[2021-06-18 16:02:33,318 INFO] Saving checkpoint OpenNMT-py/results/models/demo-model_step_1400.pt\n",
            "[2021-06-18 16:02:53,324 INFO] Loading dataset from OpenNMT-py/data/demo.train.0.pt\n",
            "[2021-06-18 16:02:54,366 INFO] number of examples: 28508\n",
            "[2021-06-18 16:03:21,032 INFO] Step 1500/ 3000; acc:  20.54; ppl: 114.59; xent: 4.74; lr: 0.00019; 6515/6889 tok/s;    709 sec\n",
            "[2021-06-18 16:03:21,033 INFO] Loading dataset from OpenNMT-py/data/demo.valid.0.pt\n",
            "[2021-06-18 16:03:21,043 INFO] number of examples: 400\n",
            "[2021-06-18 16:03:21,807 INFO] Validation perplexity: 286.931\n",
            "[2021-06-18 16:03:21,808 INFO] Validation accuracy: 18.3386\n",
            "[2021-06-18 16:03:21,873 INFO] Saving checkpoint OpenNMT-py/results/models/demo-model_step_1500.pt\n",
            "[2021-06-18 16:04:08,487 INFO] Step 1600/ 3000; acc:  21.93; ppl: 99.64; xent: 4.60; lr: 0.00020; 6668/7148 tok/s;    756 sec\n",
            "[2021-06-18 16:04:08,488 INFO] Loading dataset from OpenNMT-py/data/demo.valid.0.pt\n",
            "[2021-06-18 16:04:08,497 INFO] number of examples: 400\n",
            "[2021-06-18 16:04:09,261 INFO] Validation perplexity: 278.821\n",
            "[2021-06-18 16:04:09,261 INFO] Validation accuracy: 18.6303\n",
            "[2021-06-18 16:04:09,315 INFO] Saving checkpoint OpenNMT-py/results/models/demo-model_step_1600.pt\n",
            "[2021-06-18 16:04:11,743 INFO] Loading dataset from OpenNMT-py/data/demo.train.0.pt\n",
            "[2021-06-18 16:04:12,866 INFO] number of examples: 28508\n",
            "[2021-06-18 16:04:57,153 INFO] Step 1700/ 3000; acc:  22.20; ppl: 93.18; xent: 4.53; lr: 0.00021; 6507/6908 tok/s;    805 sec\n",
            "[2021-06-18 16:04:57,154 INFO] Loading dataset from OpenNMT-py/data/demo.valid.0.pt\n",
            "[2021-06-18 16:04:57,167 INFO] number of examples: 400\n",
            "[2021-06-18 16:04:57,931 INFO] Validation perplexity: 261.518\n",
            "[2021-06-18 16:04:57,932 INFO] Validation accuracy: 18.9727\n",
            "[2021-06-18 16:04:57,996 INFO] Saving checkpoint OpenNMT-py/results/models/demo-model_step_1700.pt\n",
            "[2021-06-18 16:05:26,859 INFO] Loading dataset from OpenNMT-py/data/demo.train.0.pt\n",
            "[2021-06-18 16:05:27,877 INFO] number of examples: 28508\n",
            "[2021-06-18 16:05:45,833 INFO] Step 1800/ 3000; acc:  23.35; ppl: 83.03; xent: 4.42; lr: 0.00022; 6487/6971 tok/s;    854 sec\n",
            "[2021-06-18 16:05:45,835 INFO] Loading dataset from OpenNMT-py/data/demo.valid.0.pt\n",
            "[2021-06-18 16:05:45,845 INFO] number of examples: 400\n",
            "[2021-06-18 16:05:46,610 INFO] Validation perplexity: 252.826\n",
            "[2021-06-18 16:05:46,610 INFO] Validation accuracy: 19.3278\n",
            "[2021-06-18 16:05:46,665 INFO] Saving checkpoint OpenNMT-py/results/models/demo-model_step_1800.pt\n",
            "[2021-06-18 16:06:33,196 INFO] Step 1900/ 3000; acc:  24.41; ppl: 74.08; xent: 4.31; lr: 0.00023; 6722/7212 tok/s;    901 sec\n",
            "[2021-06-18 16:06:33,197 INFO] Loading dataset from OpenNMT-py/data/demo.valid.0.pt\n",
            "[2021-06-18 16:06:33,206 INFO] number of examples: 400\n",
            "[2021-06-18 16:06:33,970 INFO] Validation perplexity: 230.932\n",
            "[2021-06-18 16:06:33,970 INFO] Validation accuracy: 20.1395\n",
            "[2021-06-18 16:06:34,026 INFO] Saving checkpoint OpenNMT-py/results/models/demo-model_step_1900.pt\n",
            "[2021-06-18 16:06:45,206 INFO] Loading dataset from OpenNMT-py/data/demo.train.0.pt\n",
            "[2021-06-18 16:06:46,261 INFO] number of examples: 28508\n",
            "[2021-06-18 16:07:21,674 INFO] Step 2000/ 3000; acc:  25.40; ppl: 67.03; xent: 4.21; lr: 0.00025; 6522/6859 tok/s;    949 sec\n",
            "[2021-06-18 16:07:21,675 INFO] Loading dataset from OpenNMT-py/data/demo.valid.0.pt\n",
            "[2021-06-18 16:07:21,686 INFO] number of examples: 400\n",
            "[2021-06-18 16:07:22,454 INFO] Validation perplexity: 237.756\n",
            "[2021-06-18 16:07:22,454 INFO] Validation accuracy: 20.0507\n",
            "[2021-06-18 16:07:22,512 INFO] Saving checkpoint OpenNMT-py/results/models/demo-model_step_2000.pt\n",
            "[2021-06-18 16:08:00,049 INFO] Loading dataset from OpenNMT-py/data/demo.train.0.pt\n",
            "[2021-06-18 16:08:01,054 INFO] number of examples: 28508\n",
            "[2021-06-18 16:08:10,034 INFO] Step 2100/ 3000; acc:  26.49; ppl: 60.05; xent: 4.10; lr: 0.00026; 6497/7008 tok/s;    998 sec\n",
            "[2021-06-18 16:08:10,035 INFO] Loading dataset from OpenNMT-py/data/demo.valid.0.pt\n",
            "[2021-06-18 16:08:10,047 INFO] number of examples: 400\n",
            "[2021-06-18 16:08:10,809 INFO] Validation perplexity: 239.888\n",
            "[2021-06-18 16:08:10,809 INFO] Validation accuracy: 20.1268\n",
            "[2021-06-18 16:08:10,873 INFO] Saving checkpoint OpenNMT-py/results/models/demo-model_step_2100.pt\n",
            "[2021-06-18 16:08:57,423 INFO] Step 2200/ 3000; acc:  27.52; ppl: 54.26; xent: 3.99; lr: 0.00027; 6754/7205 tok/s;   1045 sec\n",
            "[2021-06-18 16:08:57,424 INFO] Loading dataset from OpenNMT-py/data/demo.valid.0.pt\n",
            "[2021-06-18 16:08:57,433 INFO] number of examples: 400\n",
            "[2021-06-18 16:08:58,198 INFO] Validation perplexity: 214.22\n",
            "[2021-06-18 16:08:58,199 INFO] Validation accuracy: 20.5707\n",
            "[2021-06-18 16:08:58,265 INFO] Saving checkpoint OpenNMT-py/results/models/demo-model_step_2200.pt\n",
            "[2021-06-18 16:09:18,253 INFO] Loading dataset from OpenNMT-py/data/demo.train.0.pt\n",
            "[2021-06-18 16:09:19,290 INFO] number of examples: 28508\n",
            "[2021-06-18 16:09:45,954 INFO] Step 2300/ 3000; acc:  28.75; ppl: 48.10; xent: 3.87; lr: 0.00028; 6517/6891 tok/s;   1094 sec\n",
            "[2021-06-18 16:09:45,955 INFO] Loading dataset from OpenNMT-py/data/demo.valid.0.pt\n",
            "[2021-06-18 16:09:45,965 INFO] number of examples: 400\n",
            "[2021-06-18 16:09:46,731 INFO] Validation perplexity: 232.005\n",
            "[2021-06-18 16:09:46,731 INFO] Validation accuracy: 20.7736\n",
            "[2021-06-18 16:09:46,792 INFO] Saving checkpoint OpenNMT-py/results/models/demo-model_step_2300.pt\n",
            "[2021-06-18 16:10:33,297 INFO] Step 2400/ 3000; acc:  30.73; ppl: 41.24; xent: 3.72; lr: 0.00030; 6683/7165 tok/s;   1141 sec\n",
            "[2021-06-18 16:10:33,298 INFO] Loading dataset from OpenNMT-py/data/demo.valid.0.pt\n",
            "[2021-06-18 16:10:33,307 INFO] number of examples: 400\n",
            "[2021-06-18 16:10:34,078 INFO] Validation perplexity: 235.692\n",
            "[2021-06-18 16:10:34,078 INFO] Validation accuracy: 21.2302\n",
            "[2021-06-18 16:10:34,132 INFO] Saving checkpoint OpenNMT-py/results/models/demo-model_step_2400.pt\n",
            "[2021-06-18 16:10:36,540 INFO] Loading dataset from OpenNMT-py/data/demo.train.0.pt\n",
            "[2021-06-18 16:10:37,666 INFO] number of examples: 28508\n",
            "[2021-06-18 16:11:21,911 INFO] Step 2500/ 3000; acc:  31.41; ppl: 38.09; xent: 3.64; lr: 0.00031; 6514/6915 tok/s;   1190 sec\n",
            "[2021-06-18 16:11:21,912 INFO] Loading dataset from OpenNMT-py/data/demo.valid.0.pt\n",
            "[2021-06-18 16:11:21,923 INFO] number of examples: 400\n",
            "[2021-06-18 16:11:22,687 INFO] Validation perplexity: 215.524\n",
            "[2021-06-18 16:11:22,687 INFO] Validation accuracy: 21.3951\n",
            "[2021-06-18 16:11:22,747 INFO] Saving checkpoint OpenNMT-py/results/models/demo-model_step_2500.pt\n",
            "[2021-06-18 16:11:51,566 INFO] Loading dataset from OpenNMT-py/data/demo.train.0.pt\n",
            "[2021-06-18 16:11:52,588 INFO] number of examples: 28508\n",
            "[2021-06-18 16:12:10,527 INFO] Step 2600/ 3000; acc:  33.17; ppl: 33.30; xent: 3.51; lr: 0.00032; 6496/6981 tok/s;   1238 sec\n",
            "[2021-06-18 16:12:10,528 INFO] Loading dataset from OpenNMT-py/data/demo.valid.0.pt\n",
            "[2021-06-18 16:12:10,537 INFO] number of examples: 400\n",
            "[2021-06-18 16:12:11,300 INFO] Validation perplexity: 220.504\n",
            "[2021-06-18 16:12:11,300 INFO] Validation accuracy: 21.5219\n",
            "[2021-06-18 16:12:11,356 INFO] Saving checkpoint OpenNMT-py/results/models/demo-model_step_2600.pt\n",
            "[2021-06-18 16:12:57,843 INFO] Step 2700/ 3000; acc:  34.58; ppl: 29.34; xent: 3.38; lr: 0.00033; 6728/7219 tok/s;   1286 sec\n",
            "[2021-06-18 16:12:57,844 INFO] Loading dataset from OpenNMT-py/data/demo.valid.0.pt\n",
            "[2021-06-18 16:12:57,854 INFO] number of examples: 400\n",
            "[2021-06-18 16:12:58,620 INFO] Validation perplexity: 226.706\n",
            "[2021-06-18 16:12:58,620 INFO] Validation accuracy: 21.4331\n",
            "[2021-06-18 16:12:58,676 INFO] Saving checkpoint OpenNMT-py/results/models/demo-model_step_2700.pt\n",
            "[2021-06-18 16:13:09,812 INFO] Loading dataset from OpenNMT-py/data/demo.train.0.pt\n",
            "[2021-06-18 16:13:10,805 INFO] number of examples: 28508\n",
            "[2021-06-18 16:13:46,201 INFO] Step 2800/ 3000; acc:  36.29; ppl: 25.88; xent: 3.25; lr: 0.00035; 6538/6876 tok/s;   1334 sec\n",
            "[2021-06-18 16:13:46,202 INFO] Loading dataset from OpenNMT-py/data/demo.valid.0.pt\n",
            "[2021-06-18 16:13:46,213 INFO] number of examples: 400\n",
            "[2021-06-18 16:13:46,981 INFO] Validation perplexity: 216.494\n",
            "[2021-06-18 16:13:46,981 INFO] Validation accuracy: 21.915\n",
            "[2021-06-18 16:13:47,036 INFO] Saving checkpoint OpenNMT-py/results/models/demo-model_step_2800.pt\n",
            "[2021-06-18 16:14:24,681 INFO] Loading dataset from OpenNMT-py/data/demo.train.0.pt\n",
            "[2021-06-18 16:14:25,750 INFO] number of examples: 28508\n",
            "[2021-06-18 16:14:34,740 INFO] Step 2900/ 3000; acc:  37.96; ppl: 22.80; xent: 3.13; lr: 0.00036; 6473/6982 tok/s;   1382 sec\n",
            "[2021-06-18 16:14:34,741 INFO] Loading dataset from OpenNMT-py/data/demo.valid.0.pt\n",
            "[2021-06-18 16:14:34,753 INFO] number of examples: 400\n",
            "[2021-06-18 16:14:35,518 INFO] Validation perplexity: 240.219\n",
            "[2021-06-18 16:14:35,518 INFO] Validation accuracy: 21.8136\n",
            "[2021-06-18 16:14:35,587 INFO] Saving checkpoint OpenNMT-py/results/models/demo-model_step_2900.pt\n",
            "[2021-06-18 16:15:22,016 INFO] Step 3000/ 3000; acc:  39.39; ppl: 20.51; xent: 3.02; lr: 0.00037; 6771/7223 tok/s;   1430 sec\n",
            "[2021-06-18 16:15:22,017 INFO] Loading dataset from OpenNMT-py/data/demo.valid.0.pt\n",
            "[2021-06-18 16:15:22,026 INFO] number of examples: 400\n",
            "[2021-06-18 16:15:22,790 INFO] Validation perplexity: 222.164\n",
            "[2021-06-18 16:15:22,790 INFO] Validation accuracy: 22.0419\n",
            "[2021-06-18 16:15:22,854 INFO] Saving checkpoint OpenNMT-py/results/models/demo-model_step_3000.pt\n"
          ],
          "name": "stdout"
        }
      ]
    },
    {
      "cell_type": "markdown",
      "metadata": {
        "id": "8ztyWHHqDRD_"
      },
      "source": [
        "# translate"
      ]
    },
    {
      "cell_type": "code",
      "metadata": {
        "id": "dkKOoOAkNR-y"
      },
      "source": [
        "import os"
      ],
      "execution_count": 29,
      "outputs": []
    },
    {
      "cell_type": "code",
      "metadata": {
        "id": "-0QXMfraNT-c"
      },
      "source": [
        "models = [\"OpenNMT-py/results/models/\" + model for model in os.listdir('OpenNMT-py/results/models/')]\n",
        "models.sort(key=lambda model: int(model.split(\"_\")[-1].split('.')[0]))"
      ],
      "execution_count": 30,
      "outputs": []
    },
    {
      "cell_type": "code",
      "metadata": {
        "id": "KSXq59giNFdb"
      },
      "source": [
        "os.mkdir('OpenNMT-py/results/translations')"
      ],
      "execution_count": 31,
      "outputs": []
    },
    {
      "cell_type": "code",
      "metadata": {
        "id": "eXCNOYnSPdhh"
      },
      "source": [
        "for model in models:\n",
        "    os.system(f'python OpenNMT-py/translate.py -model {model} -src OpenNMT-py/data/src-val-bpe.txt -output OpenNMT-py/results/translations/{model.split(\"/\")[-1].split(\".\")[0]}.txt -replace_unk  -beam_size 1 --gpu 0')"
      ],
      "execution_count": 32,
      "outputs": []
    },
    {
      "cell_type": "code",
      "metadata": {
        "id": "Pw3To36sP-Nd"
      },
      "source": [
        "translations = ['OpenNMT-py/results/translations/' + i for i in os.listdir('OpenNMT-py/results/translations/')]\n",
        "translations.sort(key=lambda model: int(model.split(\"_\")[-1].split('.')[0]))"
      ],
      "execution_count": 33,
      "outputs": []
    },
    {
      "cell_type": "code",
      "metadata": {
        "id": "ZJHWzSSCP93q"
      },
      "source": [
        "for translation in translations:\n",
        "    os.system(f\"sed -i 's/@@ //g'  {translation}\")"
      ],
      "execution_count": 34,
      "outputs": []
    },
    {
      "cell_type": "code",
      "metadata": {
        "id": "OrJ8o0fkerZF"
      },
      "source": [
        "from nltk.translate.bleu_score import sentence_bleu"
      ],
      "execution_count": null,
      "outputs": []
    },
    {
      "cell_type": "code",
      "metadata": {
        "id": "N-8pLkkfer8w"
      },
      "source": [
        "def bleu(refrence_file, translated_file):\n",
        "    with open(refrence_file, 'r') as fp:\n",
        "        refrence = [(fp.read()).split()]\n",
        "    with open(translated_file, 'r') as fp:\n",
        "        trans = (fp.read()).split()\n",
        "    return sentence_bleu(refrence, trans)"
      ],
      "execution_count": null,
      "outputs": []
    },
    {
      "cell_type": "code",
      "metadata": {
        "id": "P6Z2LqGMZgXW"
      },
      "source": [
        "bleu_scores = []"
      ],
      "execution_count": null,
      "outputs": []
    },
    {
      "cell_type": "code",
      "metadata": {
        "id": "OdE5c1OaZiC-"
      },
      "source": [
        "bleu_scores = bleu_scores[:-1]"
      ],
      "execution_count": null,
      "outputs": []
    },
    {
      "cell_type": "code",
      "metadata": {
        "id": "ZChoFgkz-DUz"
      },
      "source": [
        "for translation in translations:\n",
        "    score = bleu('valid.fa', translation)\n",
        "    bleu_scores.append(score)"
      ],
      "execution_count": null,
      "outputs": []
    },
    {
      "cell_type": "code",
      "metadata": {
        "id": "Hbb6bWbM-qPu"
      },
      "source": [
        "import matplotlib.pyplot as plt\n",
        "def plot_bleu_scores(bleu_scores, epochs, step):\n",
        "    plt.figure(figsize = (15, 5))\n",
        "    x = [i for i in range(1, epochs, step)]\n",
        "    plt.plot(x, bleu_scores, label='BLEU Score', marker='o', linestyle='--', markeredgecolor='black')\n",
        "    plt.grid()\n",
        "    plt.xlabel('epochs')\n",
        "    plt.ylabel('BLEU Score')\n",
        "    plt.title('evolution of BLEU score throughout training')\n",
        "    plt.legend()"
      ],
      "execution_count": null,
      "outputs": []
    },
    {
      "cell_type": "code",
      "metadata": {
        "colab": {
          "base_uri": "https://localhost:8080/",
          "height": 350
        },
        "id": "sGfTMvs7AFWx",
        "outputId": "95ea578d-60bc-4a6c-f231-44188f8a2585"
      },
      "source": [
        "plot_bleu_scores(bleu_scores, 6100, 100)"
      ],
      "execution_count": null,
      "outputs": [
        {
          "output_type": "display_data",
          "data": {
            "image/png": "[encoded data removed]",
            "text/plain": [
              "<Figure size 1080x360 with 1 Axes>"
            ]
          },
          "metadata": {
            "tags": [],
            "needs_background": "light"
          }
        }
      ]
    },
    {
      "cell_type": "code",
      "metadata": {
        "id": "wC3Hs4VOEMHI"
      },
      "source": [
        "import numpy as np\n",
        "np.save(\"blue_scores.npy\", np.array(bleu_scores))"
      ],
      "execution_count": null,
      "outputs": []
    },
    {
      "cell_type": "code",
      "metadata": {
        "id": "aVMbZl1WJUDb"
      },
      "source": [
        "temp_scores = np.load(\"1-3000-every-100.npy\")"
      ],
      "execution_count": null,
      "outputs": []
    },
    {
      "cell_type": "code",
      "metadata": {
        "colab": {
          "base_uri": "https://localhost:8080/",
          "height": 350
        },
        "id": "IEihUpgXJpCH",
        "outputId": "fea0ba75-87ab-42f7-870b-63862a45186d"
      },
      "source": [
        "plot_bleu_scores(temp_scores, 3000, 100)"
      ],
      "execution_count": null,
      "outputs": [
        {
          "output_type": "display_data",
          "data": {
            "image/png": "[encoded data removed]",
            "text/plain": [
              "<Figure size 1080x360 with 1 Axes>"
            ]
          },
          "metadata": {
            "tags": [],
            "needs_background": "light"
          }
        }
      ]
    },
    {
      "cell_type": "code",
      "metadata": {
        "id": "Hv8oh12yK9r2"
      },
      "source": [
        ""
      ],
      "execution_count": null,
      "outputs": []
    }
  ]
}